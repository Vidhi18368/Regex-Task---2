{
 "cells": [
  {
   "cell_type": "markdown",
   "metadata": {},
   "source": [
    "# Task 2\n",
    "\n",
    "Name: Vidhi Parekh\n",
    "\n",
    "Registration ID: SIRSS1224"
   ]
  },
  {
   "cell_type": "markdown",
   "metadata": {},
   "source": [
    "# Question 1\n",
    "\n",
    "Write a lambda expression to extract first word of a string."
   ]
  },
  {
   "cell_type": "code",
   "execution_count": 2,
   "metadata": {},
   "outputs": [
    {
     "data": {
      "text/plain": [
       "'I'"
      ]
     },
     "execution_count": 2,
     "metadata": {},
     "output_type": "execute_result"
    }
   ],
   "source": [
    "x = lambda a : a.split()[0][0]\n",
    "    \n",
    "x('It is a beautiful day')"
   ]
  },
  {
   "cell_type": "markdown",
   "metadata": {},
   "source": [
    "# Question 2\n",
    "\n",
    "Write a function to extract first word of s string (with many words separated by space)."
   ]
  },
  {
   "cell_type": "code",
   "execution_count": 4,
   "metadata": {},
   "outputs": [
    {
     "data": {
      "text/plain": [
       "'It'"
      ]
     },
     "execution_count": 4,
     "metadata": {},
     "output_type": "execute_result"
    }
   ],
   "source": [
    "x = lambda a : a.split()[0]\n",
    "\n",
    "x('It is a beautiful day')"
   ]
  },
  {
   "cell_type": "markdown",
   "metadata": {},
   "source": [
    "# Question 3\n",
    "\n",
    "Extract the first word from every string from a list of strings by using map function."
   ]
  },
  {
   "cell_type": "code",
   "execution_count": 6,
   "metadata": {},
   "outputs": [
    {
     "data": {
      "text/plain": [
       "['It', 'She', 'All']"
      ]
     },
     "execution_count": 6,
     "metadata": {},
     "output_type": "execute_result"
    }
   ],
   "source": [
    "lst = ['It is a beautiful day','She looks pretty','All the best']\n",
    "\n",
    "list(map(x, lst))"
   ]
  },
  {
   "cell_type": "markdown",
   "metadata": {},
   "source": [
    "# Question 4\n",
    "\n",
    "Write a function to return a list of prime factors of a given number.\n",
    "\n"
   ]
  },
  {
   "cell_type": "code",
   "execution_count": 13,
   "metadata": {},
   "outputs": [
    {
     "data": {
      "text/plain": [
       "[2, 3, 5, 5]"
      ]
     },
     "execution_count": 13,
     "metadata": {},
     "output_type": "execute_result"
    }
   ],
   "source": [
    "\n",
    "def prime_factor(x):\n",
    "    \"\"\"Function accepts a number and returns list of prime factors for it\"\"\"\n",
    "    factors = []\n",
    "    check = check_prime(x)\n",
    "    if not(check):\n",
    "        i = 2\n",
    "        while i <= x:            \n",
    "            if(x % i == 0):\n",
    "                factors.append(i)\n",
    "                x = math.floor(x // i)\n",
    "            else: \n",
    "                i += 1\n",
    "\n",
    "    else:\n",
    "        factors.append('This is prime number')\n",
    "        \n",
    "    return factors\n",
    "\n",
    "prime_factor(150)"
   ]
  },
  {
   "cell_type": "markdown",
   "metadata": {},
   "source": [
    "# Question 5\n",
    "\n",
    "Write a function that finds 2nd largest among 4 numbers (Repetitions are allowed, without sorting)."
   ]
  },
  {
   "cell_type": "code",
   "execution_count": 21,
   "metadata": {},
   "outputs": [
    {
     "name": "stdout",
     "output_type": "stream",
     "text": [
      "Second highest number is :  99\n"
     ]
    }
   ],
   "source": [
    "list1 = [10, 21, 4, 105, 99]\n",
    " \n",
    "mx=max(list1[0],list1[1])\n",
    "secondmax=min(list1[0],list1[1])\n",
    "n =len(list1)\n",
    "for i in range(2,n):\n",
    "    if list1[i]>mx:\n",
    "        secondmax=mx\n",
    "        mx=list1[i]\n",
    "    elif list1[i]>secondmax and \\\n",
    "        mx != list1[i]:\n",
    "        secondmax=list1[i]\n",
    " \n",
    "print(\"Second highest number is : \",\\\n",
    "      str(secondmax))"
   ]
  }
 ],
 "metadata": {
  "kernelspec": {
   "display_name": "Python 3",
   "language": "python",
   "name": "python3"
  },
  "language_info": {
   "codemirror_mode": {
    "name": "ipython",
    "version": 3
   },
   "file_extension": ".py",
   "mimetype": "text/x-python",
   "name": "python",
   "nbconvert_exporter": "python",
   "pygments_lexer": "ipython3",
   "version": "3.8.5"
  }
 },
 "nbformat": 4,
 "nbformat_minor": 4
}
